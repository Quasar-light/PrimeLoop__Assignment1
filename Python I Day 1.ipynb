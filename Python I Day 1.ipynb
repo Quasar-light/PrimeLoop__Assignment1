{
  "cells": [
    {
      "attachments": {},
      "cell_type": "markdown",
      "metadata": {
        "id": "57xaaz1EpigH"
      },
      "source": [
        "# Coding Temple's Data Analytics Course\n",
        "---\n",
        "## Python I: Variable Assignment, Loops, Lists\n",
        "---"
      ]
    },
    {
      "attachments": {},
      "cell_type": "markdown",
      "metadata": {
        "id": "DEMU__ZTpigK"
      },
      "source": [
        "## Tasks Today:\n",
        "\n",
        "1) Int & Float assignments <br>\n",
        " &nbsp;&nbsp;&nbsp;&nbsp; a) Assigning int <br>\n",
        " &nbsp;&nbsp;&nbsp;&nbsp; b) Assigning float <br>\n",
        " &nbsp;&nbsp;&nbsp;&nbsp; c) Performing Calculations on ints and floats <br>\n",
        " &nbsp;&nbsp;&nbsp;&nbsp;&nbsp;&nbsp;&nbsp;&nbsp; - Addition <br>\n",
        " &nbsp;&nbsp;&nbsp;&nbsp;&nbsp;&nbsp;&nbsp;&nbsp; - Subtraction <br>\n",
        " &nbsp;&nbsp;&nbsp;&nbsp;&nbsp;&nbsp;&nbsp;&nbsp; - Multiplication <br>\n",
        " &nbsp;&nbsp;&nbsp;&nbsp;&nbsp;&nbsp;&nbsp;&nbsp; - Division <br>\n",
        " &nbsp;&nbsp;&nbsp;&nbsp;&nbsp;&nbsp;&nbsp;&nbsp; - Floor Division <br>\n",
        " &nbsp;&nbsp;&nbsp;&nbsp;&nbsp;&nbsp;&nbsp;&nbsp; - Modulo <br>\n",
        " &nbsp;&nbsp;&nbsp;&nbsp;&nbsp;&nbsp;&nbsp;&nbsp; - Exponential <br>\n",
        "2) String Input-Output <br>\n",
        " &nbsp;&nbsp;&nbsp;&nbsp; a) String Assignment <br>\n",
        " &nbsp;&nbsp;&nbsp;&nbsp; b) print() <br>\n",
        " &nbsp;&nbsp;&nbsp;&nbsp; c) String Concatenation <br>\n",
        " &nbsp;&nbsp;&nbsp;&nbsp; d) Type Conversion <br>\n",
        " &nbsp;&nbsp;&nbsp;&nbsp; e) input() <br>\n",
        " &nbsp;&nbsp;&nbsp;&nbsp; f) format() <br>\n",
        " &nbsp;&nbsp;&nbsp;&nbsp; g) Old Way (python 2) <br>\n",
        "3) <b>In-Class Exercise #1</b> <br>\n",
        "4) If Statements <br>\n",
        " &nbsp;&nbsp;&nbsp;&nbsp; a) 'is' keyword <br>\n",
        " &nbsp;&nbsp;&nbsp;&nbsp; b) 'in' keyword <br>\n",
        " &nbsp;&nbsp;&nbsp;&nbsp; c) 'not in' keyword <br>\n",
        "5) <b>In-Class Exercise #2</b> <br>\n",
        "6) Elif Statements <br>\n",
        "7) Else Statements <br>\n",
        "8) <b>In-Class Exercise #3</b> <br>\n",
        "9) For Loops <br>\n",
        " &nbsp;&nbsp;&nbsp;&nbsp; a) Using 'in' keyword <br>\n",
        " &nbsp;&nbsp;&nbsp;&nbsp; b) Continue Statement <br>\n",
        " &nbsp;&nbsp;&nbsp;&nbsp; c) Break Statement <br>\n",
        " &nbsp;&nbsp;&nbsp;&nbsp; d) Pass Statement <br>\n",
        " &nbsp;&nbsp;&nbsp;&nbsp; e) Double For Loops <br>\n",
        "10) While Loops <br>\n",
        " &nbsp;&nbsp;&nbsp;&nbsp; a) Looping 'While True' <br>\n",
        " &nbsp;&nbsp;&nbsp;&nbsp; b) While and For Loops Used Together <br>\n",
        "11) Built-In Functions <br>\n",
        " &nbsp;&nbsp;&nbsp;&nbsp; a) range() <br>\n",
        " &nbsp;&nbsp;&nbsp;&nbsp; b) len() <br>\n",
        " &nbsp;&nbsp;&nbsp;&nbsp; c) help() <br>\n",
        " &nbsp;&nbsp;&nbsp;&nbsp; d) isinstance() <br>\n",
        " &nbsp;&nbsp;&nbsp;&nbsp; e) abs() <br>\n",
        "12) Try and Except <br>\n",
        "13) Lists <br>\n",
        " &nbsp;&nbsp;&nbsp;&nbsp; a) Declaring Lists <br>\n",
        " &nbsp;&nbsp;&nbsp;&nbsp; b) Indexing a List <br>\n",
        " &nbsp;&nbsp;&nbsp;&nbsp; c) .append() <br>\n",
        " &nbsp;&nbsp;&nbsp;&nbsp; d) .insert() <br>\n",
        " &nbsp;&nbsp;&nbsp;&nbsp; e) .pop() <br>\n",
        " &nbsp;&nbsp;&nbsp;&nbsp; f) .remove() <br>\n",
        " &nbsp;&nbsp;&nbsp;&nbsp; g) del() <br>\n",
        " &nbsp;&nbsp;&nbsp;&nbsp; h) Concatenating Two Lists <br>\n",
        " &nbsp;&nbsp;&nbsp;&nbsp; i) Lists Within Lists <br>\n",
        " &nbsp;&nbsp;&nbsp;&nbsp; j) Looping Through Lists <br>"
      ]
    },
    {
      "attachments": {},
      "cell_type": "markdown",
      "metadata": {
        "id": "9AQEnYwJpigM"
      },
      "source": [
        "### Int & Float Assignments"
      ]
    },
    {
      "attachments": {},
      "cell_type": "markdown",
      "metadata": {
        "id": "WbMsgFCDpigM"
      },
      "source": [
        "##### Assigning int"
      ]
    },
    {
      "cell_type": "code",
      "execution_count": 121,
      "metadata": {
        "id": "if4FWmqWpigN"
      },
      "outputs": [
        {
          "data": {
            "text/plain": [
              "6"
            ]
          },
          "execution_count": 121,
          "metadata": {},
          "output_type": "execute_result"
        }
      ],
      "source": [
        "#a interger can be converted to float, a float can never be an integer. They are two different data types in python\n",
        "#to assign to a variable, #1 name the variable. Must be all lowercase when naming variables. (except when using matrices)\n",
        "#use snake casing for seperating words. lowercase with an underscore is snakecasing ex. lower_casing \n",
        "\n",
        "number = 6 #means setting it to something == means you are comparing it to something\n",
        "number  #means 6 even if 6 is not there"
      ]
    },
    {
      "attachments": {},
      "cell_type": "markdown",
      "metadata": {
        "id": "BBX5w1FfpigO"
      },
      "source": [
        "##### Assinging float"
      ]
    },
    {
      "cell_type": "code",
      "execution_count": 122,
      "metadata": {
        "id": "w0KpCCeXpigO"
      },
      "outputs": [
        {
          "data": {
            "text/plain": [
              "2.3"
            ]
          },
          "execution_count": 122,
          "metadata": {},
          "output_type": "execute_result"
        }
      ],
      "source": [
        "number_float = 2.3\n",
        "number_float"
      ]
    },
    {
      "attachments": {},
      "cell_type": "markdown",
      "metadata": {
        "id": "hZkNTUDApigO"
      },
      "source": [
        "#### Performing Calculations on ints and floats"
      ]
    },
    {
      "attachments": {},
      "cell_type": "markdown",
      "metadata": {
        "id": "0OJrZLB_pigP"
      },
      "source": [
        "##### Addition"
      ]
    },
    {
      "cell_type": "code",
      "execution_count": 123,
      "metadata": {
        "id": "ZplFGDG-pigP"
      },
      "outputs": [
        {
          "name": "stdout",
          "output_type": "stream",
          "text": [
            "7.4\n",
            "12.8\n"
          ]
        }
      ],
      "source": [
        "num_1 = 2\n",
        "num_2 = 5.4\n",
        "\n",
        "#this is one way we can perform addition to two different numbers \n",
        "result = num_1 + num_2\n",
        "print(result)\n",
        "\n",
        "#there is also a pythonic way to do this (simpler/less code)\n",
        "result += num_2 #exact same thing as saying result = result + num_2\n",
        "\n",
        "# += means that i'm adding to the value on the left handside\n",
        "\n",
        "print(result) #i need to have as many print() as functions I want to see printed\n"
      ]
    },
    {
      "attachments": {},
      "cell_type": "markdown",
      "metadata": {
        "id": "XpRbDiqapigQ"
      },
      "source": [
        "##### Subtraction"
      ]
    },
    {
      "cell_type": "code",
      "execution_count": 124,
      "metadata": {
        "id": "4ty9SIlqpigQ"
      },
      "outputs": [
        {
          "name": "stdout",
          "output_type": "stream",
          "text": [
            "3.4000000000000004\n",
            "2.4000000000000004\n"
          ]
        }
      ],
      "source": [
        "result_diff = num_2 - num_1\n",
        "print(result_diff)\n",
        "\n",
        "#pythonic version:\n",
        "result_diff -= 1\n",
        "print(result_diff)\n"
      ]
    },
    {
      "attachments": {},
      "cell_type": "markdown",
      "metadata": {
        "id": "2l8PJyt1pigQ"
      },
      "source": [
        "##### Multiplication"
      ]
    },
    {
      "cell_type": "code",
      "execution_count": 125,
      "metadata": {
        "id": "ihgp2XUCpigQ"
      },
      "outputs": [
        {
          "name": "stdout",
          "output_type": "stream",
          "text": [
            "5.4\n",
            "10.8\n"
          ]
        }
      ],
      "source": [
        "result_mult = num_1 = num_2\n",
        "print(result_mult)\n",
        "\n",
        "#pythonic version:\n",
        "result_mult *= 2\n",
        "print(result_mult)"
      ]
    },
    {
      "attachments": {},
      "cell_type": "markdown",
      "metadata": {
        "id": "BX9eRTAtpigQ"
      },
      "source": [
        "##### Division"
      ]
    },
    {
      "cell_type": "code",
      "execution_count": 126,
      "metadata": {
        "id": "xmH2irBvpigR"
      },
      "outputs": [
        {
          "name": "stdout",
          "output_type": "stream",
          "text": [
            "1.0\n",
            "0.5\n"
          ]
        }
      ],
      "source": [
        "result_div = num_2 / num_1\n",
        "print(result_div)\n",
        "\n",
        "#pythonic method:\n",
        "result_div /= 2\n",
        "print(result_div)"
      ]
    },
    {
      "attachments": {},
      "cell_type": "markdown",
      "metadata": {
        "id": "wRDQbO74pigR"
      },
      "source": [
        "##### Floor Division"
      ]
    },
    {
      "cell_type": "code",
      "execution_count": 127,
      "metadata": {
        "id": "ug00LrlRpigR"
      },
      "outputs": [
        {
          "name": "stdout",
          "output_type": "stream",
          "text": [
            "1.0\n",
            "0.0\n"
          ]
        }
      ],
      "source": [
        "#floor division rounds to the nearest whole\n",
        "result_floor = num_2 // num_1\n",
        "print(result_floor) \n",
        "\n",
        "#pythonic methoid\n",
        "result_floor //= 2\n",
        "print(result_floor)"
      ]
    },
    {
      "attachments": {},
      "cell_type": "markdown",
      "metadata": {
        "id": "xrF0YNLRpigR"
      },
      "source": [
        "##### Modulo"
      ]
    },
    {
      "cell_type": "code",
      "execution_count": 128,
      "metadata": {
        "id": "KJbeV5W8pigR"
      },
      "outputs": [
        {
          "name": "stdout",
          "output_type": "stream",
          "text": [
            "0.0\n"
          ]
        }
      ],
      "source": [
        "#returns only the remaining portion of your division (the remainder)\n",
        "result_mod = num_2 %  num_1\n",
        "print(result_mod)"
      ]
    },
    {
      "attachments": {},
      "cell_type": "markdown",
      "metadata": {
        "id": "mV3tz9_4pigS"
      },
      "source": [
        "##### Exponential"
      ]
    },
    {
      "cell_type": "code",
      "execution_count": 129,
      "metadata": {
        "id": "HkDfvywxpigS"
      },
      "outputs": [
        {
          "name": "stdout",
          "output_type": "stream",
          "text": [
            "25\n",
            "625\n"
          ]
        }
      ],
      "source": [
        "squared = 5 ** 2 #this is saying 5x5\n",
        "print(squared)\n",
        "\n",
        "#pythonic method:\n",
        "squared **= 2\n",
        "print(squared)"
      ]
    },
    {
      "attachments": {},
      "cell_type": "markdown",
      "metadata": {
        "id": "dryy0pBFpigS"
      },
      "source": [
        "### String Input-Output"
      ]
    },
    {
      "attachments": {},
      "cell_type": "markdown",
      "metadata": {
        "id": "Xjfphv3UpigS"
      },
      "source": [
        "##### String Assignment"
      ]
    },
    {
      "cell_type": "code",
      "execution_count": 130,
      "metadata": {
        "id": "QQA_K7eppigS"
      },
      "outputs": [
        {
          "name": "stdout",
          "output_type": "stream",
          "text": [
            "Kali\n"
          ]
        }
      ],
      "source": [
        "#define string with double or single quotes equal to variable\n",
        "name = \"Kali\"\n",
        "print(name)"
      ]
    },
    {
      "attachments": {},
      "cell_type": "markdown",
      "metadata": {
        "id": "x6Fx1auepigS"
      },
      "source": [
        "##### print() <br>\n",
        "<p>Don't forget about end=' '</p>"
      ]
    },
    {
      "cell_type": "code",
      "execution_count": 131,
      "metadata": {
        "id": "Z4SCUqIVpigS"
      },
      "outputs": [
        {
          "name": "stdout",
          "output_type": "stream",
          "text": [
            "this is my first name: Kali\n",
            "full name: KaliK."
          ]
        }
      ],
      "source": [
        "print(\"this is my first name:\",name)\n",
        "print(\"full name:\", name , end=\"K.\")"
      ]
    },
    {
      "attachments": {},
      "cell_type": "markdown",
      "metadata": {
        "id": "0rvl648hpigT"
      },
      "source": [
        "##### String Concatenation"
      ]
    },
    {
      "cell_type": "code",
      "execution_count": 132,
      "metadata": {
        "id": "S3Y5p6N8pigT"
      },
      "outputs": [
        {
          "data": {
            "text/plain": [
              "'Kali K. jr. '"
            ]
          },
          "execution_count": 132,
          "metadata": {},
          "output_type": "execute_result"
        }
      ],
      "source": [
        "first_name = \"Kali\"\n",
        "last_name = \"K.\"\n",
        "\n",
        "full_name = first_name + ' ' + last_name #the space puts the space between first and last name\n",
        "\n",
        "#pythonic method\n",
        "full_name += \" jr. \"\n",
        "full_name"
      ]
    },
    {
      "attachments": {},
      "cell_type": "markdown",
      "metadata": {
        "id": "XlQAnJBbpigT"
      },
      "source": [
        "##### Type Conversion"
      ]
    },
    {
      "cell_type": "code",
      "execution_count": 133,
      "metadata": {
        "id": "LczVxyFmpigT"
      },
      "outputs": [
        {
          "name": "stdout",
          "output_type": "stream",
          "text": [
            "32\n",
            "32\n",
            "55\n"
          ]
        }
      ],
      "source": [
        "number = '32'\n",
        "#number + 23 #can't concationate string to integers like this\n",
        "\n",
        "change_type_num = int(number)\n",
        "print(number)\n",
        "print(change_type_num)\n",
        "#doesn't change unless you add the number you want to change\n",
        "print(change_type_num + 23)\n",
        "\n",
        "#change_type_num is a variable that holds an object thats why you can't set it equal to anything or \n"
      ]
    },
    {
      "attachments": {},
      "cell_type": "markdown",
      "metadata": {
        "id": "D5r5bba4pigT"
      },
      "source": [
        "##### input()"
      ]
    },
    {
      "cell_type": "code",
      "execution_count": 134,
      "metadata": {
        "id": "93t1CFRdpigT"
      },
      "outputs": [
        {
          "name": "stdout",
          "output_type": "stream",
          "text": [
            "kali\n",
            "<class 'str'>\n",
            "we\n"
          ]
        }
      ],
      "source": [
        "#input is a function. It askes for input in the terminal\n",
        "name = input(\"what is your name?\")\n",
        "print(name)\n",
        "\n",
        "age = input(\"what is  your age\")\n",
        "print(type(age)) #adding type will tell you what type of object it is\n",
        "print(age)\n",
        "#input always outputs a string object\n",
        "#wrap it in int call to make it a integer"
      ]
    },
    {
      "attachments": {},
      "cell_type": "markdown",
      "metadata": {
        "id": "TkEhAU61pigT"
      },
      "source": [
        "##### format()"
      ]
    },
    {
      "cell_type": "code",
      "execution_count": null,
      "metadata": {
        "id": "T656F6u4pigU"
      },
      "outputs": [],
      "source": [
        "age = input(\"what is your age?\")\n",
        "result_str = \"You are {} {} and you are getting wiser!\".format(age, name)\n",
        "print(result_str)\n",
        "\n",
        "#shorthand way to do this is called f-string. takes teh letter f and place it at the front of the string \n",
        "result_again = f\"{age} is a great time in life!\""
      ]
    },
    {
      "attachments": {},
      "cell_type": "markdown",
      "metadata": {
        "id": "7IOvBGXapigU"
      },
      "source": [
        "##### Old Way (python 2)"
      ]
    },
    {
      "cell_type": "code",
      "execution_count": 135,
      "metadata": {
        "id": "x1NsLPo6pigU"
      },
      "outputs": [
        {
          "data": {
            "text/plain": [
              "'you are %  and you look great for your age!'"
            ]
          },
          "execution_count": 135,
          "metadata": {},
          "output_type": "execute_result"
        }
      ],
      "source": [
        "results_str_2 = \"you are %  and you look great for your age!\"\n",
        "results_str_2 "
      ]
    },
    {
      "attachments": {},
      "cell_type": "markdown",
      "metadata": {
        "id": "Jfh2Y6qwpigU"
      },
      "source": [
        "# In-Class Exercise 1 <br>\n",
        "<p>Create a format statement that asks for color, year, make, model and prints out the results</p>"
      ]
    },
    {
      "cell_type": "code",
      "execution_count": 136,
      "metadata": {
        "id": "XEkCn2tHpigU"
      },
      "outputs": [
        {
          "name": "stdout",
          "output_type": "stream",
          "text": [
            "The vehicle is a qw, we, we, we \n"
          ]
        }
      ],
      "source": [
        "# Uses input function to ask for color, year, make, and model of vehicle.\n",
        "# Then, you will use a .format() or f-string to print those values back to your user.\n",
        "\n",
        "color = input(\"what color is your car?\")\n",
        "make = input(\"what is the make of your car?\")\n",
        "model = input(\"what is the model?\")\n",
        "year = input(\"what is the year made?\")\n",
        "\n",
        "print(f\"The vehicle is a {color}, {make}, {model}, {year} \")\n",
        "\n",
        "#set input equal to a variable, then place f statement into print statement \n"
      ]
    },
    {
      "attachments": {},
      "cell_type": "markdown",
      "metadata": {
        "id": "7rBu-8S0pigU"
      },
      "source": [
        "### If Statements"
      ]
    },
    {
      "cell_type": "code",
      "execution_count": 139,
      "metadata": {
        "id": "mbHj2C8QpigV"
      },
      "outputs": [
        {
          "name": "stdout",
          "output_type": "stream",
          "text": [
            "not equal\n",
            "low number\n"
          ]
        }
      ],
      "source": [
        "#available operands: >, <, ==, >=, <=\n",
        "\n",
        "#Truth tree:\n",
        "#T && F = F\n",
        "#T && T = T\n",
        "#T || F = T\n",
        "#F || T = T\n",
        "#F || F = F\n",
        "\n",
        "num_1 = 5\n",
        "num_2 = 10\n",
        "\n",
        "if num_2 == num_1:\n",
        "    print(\"equal values\")\n",
        "else:\n",
        "    print(\"not equal\")\n",
        "\n",
        "if num_2 > num_1 and num_1 < 20:\n",
        "    print(\"low number\")"
      ]
    },
    {
      "attachments": {},
      "cell_type": "markdown",
      "metadata": {
        "id": "qkYer6qtpigV"
      },
      "source": [
        "##### 'is' keyword"
      ]
    },
    {
      "cell_type": "code",
      "execution_count": 141,
      "metadata": {
        "id": "FHbOkfRJpigV",
        "scrolled": true
      },
      "outputs": [
        {
          "name": "stdout",
          "output_type": "stream",
          "text": [
            "this is the exat number/object\n"
          ]
        },
        {
          "name": "stderr",
          "output_type": "stream",
          "text": [
            "<>:4: SyntaxWarning: \"is\" with a literal. Did you mean \"==\"?\n",
            "<>:4: SyntaxWarning: \"is\" with a literal. Did you mean \"==\"?\n",
            "/var/folders/sl/vm13vmsn0bz16pw005vvm7d80000gn/T/ipykernel_94782/19024450.py:4: SyntaxWarning: \"is\" with a literal. Did you mean \"==\"?\n",
            "  if num_3 is 55:\n"
          ]
        }
      ],
      "source": [
        "# is keywork is used when we check if something is the same/similar to an object\n",
        "num_3 = 55\n",
        "\n",
        "if num_3 is 55:\n",
        "    print(\"this is the exact number/object\")  "
      ]
    },
    {
      "attachments": {},
      "cell_type": "markdown",
      "metadata": {
        "id": "GYrLnQv3pigW"
      },
      "source": [
        "##### 'in' keyword"
      ]
    },
    {
      "cell_type": "code",
      "execution_count": 143,
      "metadata": {
        "id": "0LglfRfDpigW"
      },
      "outputs": [
        {
          "name": "stdout",
          "output_type": "stream",
          "text": [
            "The character that lost everything\n"
          ]
        }
      ],
      "source": [
        "char_name = \"max payne\"\n",
        "\n",
        "if \"a\" in char_name:\n",
        "    print(\"The character that lost everything\")"
      ]
    },
    {
      "attachments": {},
      "cell_type": "markdown",
      "metadata": {
        "id": "O3YwJKEgpigW"
      },
      "source": [
        "##### 'not in' keyword'"
      ]
    },
    {
      "cell_type": "code",
      "execution_count": 147,
      "metadata": {
        "id": "sgIzj-vopigW"
      },
      "outputs": [
        {
          "name": "stdout",
          "output_type": "stream",
          "text": [
            "here is the charcter you asked for: sonic\n"
          ]
        }
      ],
      "source": [
        "char_list = [char_name, \"sonic\", \"tails\", \"knuckles\"]\n",
        "name = input(\"character name:\")\n",
        "\n",
        "if name not in char_list:\n",
        "    print(f\"the character name {name} is not present in this list\")\n",
        "else:\n",
        "    print(f\"here is the charcter you asked for: {name}\")"
      ]
    },
    {
      "attachments": {},
      "cell_type": "markdown",
      "metadata": {
        "id": "U064bQXGpigW"
      },
      "source": [
        "# In-Class Exercise 2 <br>\n",
        "<p>Ask a user for input, check to see if the letter 'p' is in the input</p>"
      ]
    },
    {
      "cell_type": "code",
      "execution_count": 151,
      "metadata": {
        "id": "IW9tVkRYpigW"
      },
      "outputs": [
        {
          "name": "stdout",
          "output_type": "stream",
          "text": [
            "the letter p is in ask pat. Good Job!\n",
            "['pat', 'z', 't', 34]\n"
          ]
        }
      ],
      "source": [
        "#letters = [letters_name, \"z\", \"p\", \"k\"] #create list/tupple use [] to do so\n",
        "\n",
        "ask = input(\"Think of a word with the letter p\")\n",
        "\n",
        "if \"p\" in ask:\n",
        "    print(f\"the letter p is in ask {ask}. Good Job!\")\n",
        "else:\n",
        "    print(f\"try again {ask}. Didn't have the letter p\")\n",
        "\n",
        "\n",
        "\n"
      ]
    },
    {
      "attachments": {},
      "cell_type": "markdown",
      "metadata": {
        "id": "5-UuzohapigW"
      },
      "source": [
        "## Using 'and'/'or' with If Statements"
      ]
    },
    {
      "cell_type": "code",
      "execution_count": null,
      "metadata": {
        "id": "LnxGb7aQpigW"
      },
      "outputs": [],
      "source": [
        "num_1 = 15\n",
        "num_2 = 3\n",
        "num_3 = 10\n",
        "num_4 = 3\n",
        "\n",
        "#if with \"and \" stsatement\n",
        "if num_1 / 5 == num_2 and num_3 -7 == num_4:\n",
        "    print(\"true and true\")\n",
        "\n",
        "#these are teh same thing\n",
        "if num_1/ 5 == num_2 & num_3 -7 == num_4:\n",
        "    print(\"true and true\")"
      ]
    },
    {
      "attachments": {},
      "cell_type": "markdown",
      "metadata": {
        "id": "whxY1xwwpigX"
      },
      "source": [
        "### Elif Statements"
      ]
    },
    {
      "cell_type": "code",
      "execution_count": 154,
      "metadata": {
        "id": "Td62fi2FpigX"
      },
      "outputs": [
        {
          "name": "stdout",
          "output_type": "stream",
          "text": [
            "Your name is not alex!\n"
          ]
        }
      ],
      "source": [
        "#will be triggered if the first if statement fails\n",
        "\n",
        "first_name = input(\"Kali\")\n",
        "\n",
        "if first_name == \"Katie\":\n",
        "    print(\"your name is Kali\")\n",
        "\n",
        "elif first_name != \"Alex\":\n",
        "    print(\"Your name is not alex!\")\n",
        "\n",
        "#otherwise\n",
        "else:\n",
        "    print(\"Your name is Kali\")\n"
      ]
    },
    {
      "attachments": {},
      "cell_type": "markdown",
      "metadata": {
        "id": "ASN3ooropigX"
      },
      "source": [
        "### Else Statements"
      ]
    },
    {
      "cell_type": "code",
      "execution_count": null,
      "metadata": {},
      "outputs": [],
      "source": []
    },
    {
      "cell_type": "code",
      "execution_count": null,
      "metadata": {
        "id": "PFNuu-vupigX"
      },
      "outputs": [],
      "source": [
        "#see above"
      ]
    },
    {
      "attachments": {},
      "cell_type": "markdown",
      "metadata": {
        "id": "Ck0z9vNipigX"
      },
      "source": [
        "### For Loops"
      ]
    },
    {
      "cell_type": "code",
      "execution_count": 177,
      "metadata": {
        "id": "d39ZrrARpigX"
      },
      "outputs": [
        {
          "name": "stdout",
          "output_type": "stream",
          "text": [
            "K\n",
            "a\n",
            "l\n",
            "i\n",
            " \n",
            "K\n",
            "pat\n",
            "z\n",
            "t\n",
            "34\n",
            "pat\n",
            "z\n",
            "t\n",
            "34\n"
          ]
        },
        {
          "ename": "IndexError",
          "evalue": "list index out of range",
          "output_type": "error",
          "traceback": [
            "\u001b[0;31m---------------------------------------------------------------------------\u001b[0m",
            "\u001b[0;31mIndexError\u001b[0m                                Traceback (most recent call last)",
            "Cell \u001b[0;32mIn[177], line 16\u001b[0m\n\u001b[1;32m     14\u001b[0m \u001b[39m#another method for loop looks over a range of values, to access index positions and gather back values that way\u001b[39;00m\n\u001b[1;32m     15\u001b[0m \u001b[39mfor\u001b[39;00m index_position \u001b[39min\u001b[39;00m \u001b[39mrange\u001b[39m(\u001b[39mlen\u001b[39m(name)):\n\u001b[0;32m---> 16\u001b[0m     \u001b[39mprint\u001b[39m(char_list[index_position])\n",
            "\u001b[0;31mIndexError\u001b[0m: list index out of range"
          ]
        }
      ],
      "source": [
        "#iterables: an interable is something that can be parsed over in smaller chuncks\n",
        "#ex. words can be broken down to letters. A list of words can be broken down to each individual word. \n",
        "\n",
        "name = \"Kali K\"\n",
        "\n",
        "#one method of looping\n",
        "for letter in name: \n",
        "    print(letter)\n",
        "\n",
        "#this method gives back values associated with the object you are iterating through\n",
        "for letter in char_list:\n",
        "    print(letter)\n",
        "\n",
        "#another method for loop looks over a range of values, to access index positions and gather back values that way\n",
        "for index_position in range(len(name)):\n",
        "    print(char_list[index_position])"
      ]
    },
    {
      "attachments": {},
      "cell_type": "markdown",
      "metadata": {
        "id": "5S0I8aINpigY"
      },
      "source": [
        "##### Continue Statement"
      ]
    },
    {
      "cell_type": "code",
      "execution_count": 161,
      "metadata": {
        "id": "J_kRqgj5pigY"
      },
      "outputs": [
        {
          "name": "stdout",
          "output_type": "stream",
          "text": [
            "0\n",
            "1\n",
            "2\n",
            "3\n",
            "4\n",
            "6\n",
            "7\n",
            "8\n",
            "9\n",
            "10\n",
            "11\n",
            "12\n",
            "13\n",
            "14\n",
            "15\n",
            "16\n",
            "17\n",
            "18\n",
            "19\n"
          ]
        }
      ],
      "source": [
        "#continues to the next interation, bypassing all other values/actions that you might want to take\n",
        "for i in range(20):\n",
        "    if i == 5:\n",
        "        continue\n",
        "    print(i)"
      ]
    },
    {
      "attachments": {},
      "cell_type": "markdown",
      "metadata": {
        "id": "ayhahusHpigY"
      },
      "source": [
        "##### Break Statement"
      ]
    },
    {
      "cell_type": "code",
      "execution_count": null,
      "metadata": {
        "id": "rVZD2dL1pigY"
      },
      "outputs": [],
      "source": [
        "#will break out of the current loop it is present in:\n",
        "for i in range(20):\n",
        "    if i == 5:\n",
        "        break\n",
        "    \n"
      ]
    },
    {
      "attachments": {},
      "cell_type": "markdown",
      "metadata": {
        "id": "TNq5R0MJpigY"
      },
      "source": [
        "##### Pass Statement"
      ]
    },
    {
      "cell_type": "code",
      "execution_count": 176,
      "metadata": {
        "id": "Z8IVvwtdpigY"
      },
      "outputs": [],
      "source": [
        "#mostly used as a placeholder and will continue onto the same iteration:\n",
        "\n",
        "for i in name:\n",
        "    pass #toodo (to do): come back and finish implementation\n",
        "\n",
        "def replace_rows_in_database(info):\n",
        "    #todo: write out a function that can replace in DB\n",
        "    pass"
      ]
    },
    {
      "cell_type": "code",
      "execution_count": null,
      "metadata": {
        "id": "Xax_pgBDpigZ"
      },
      "outputs": [],
      "source": []
    },
    {
      "attachments": {},
      "cell_type": "markdown",
      "metadata": {
        "id": "aiccDYGIpigZ"
      },
      "source": [
        "##### Double For Loops"
      ]
    },
    {
      "cell_type": "code",
      "execution_count": 170,
      "metadata": {
        "id": "AfOZQ6CPpigZ"
      },
      "outputs": [
        {
          "name": "stdout",
          "output_type": "stream",
          "text": [
            "i =  0 j =  0\n",
            "i =  0 j =  1\n",
            "i =  0 j =  2\n",
            "i =  0 j =  3\n",
            "i =  0 j =  4\n",
            "i =  1 j =  0\n",
            "i =  1 j =  1\n",
            "i =  1 j =  2\n",
            "i =  1 j =  3\n",
            "i =  1 j =  4\n",
            "i =  2 j =  0\n",
            "i =  2 j =  1\n",
            "i =  2 j =  2\n",
            "i =  2 j =  3\n",
            "i =  2 j =  4\n",
            "i =  3 j =  0\n",
            "i =  3 j =  1\n",
            "i =  3 j =  2\n",
            "i =  3 j =  3\n",
            "i =  3 j =  4\n",
            "i =  4 j =  0\n",
            "i =  4 j =  1\n",
            "i =  4 j =  2\n",
            "i =  4 j =  3\n",
            "i =  4 j =  4\n"
          ]
        }
      ],
      "source": [
        "#nested loops. use for prime number problem\n",
        "\n",
        "for i in range(5):\n",
        "    for j in range(5):\n",
        "        print('i = ', i, 'j = ', j) "
      ]
    },
    {
      "attachments": {},
      "cell_type": "markdown",
      "metadata": {
        "id": "YSJaEYX8pigZ"
      },
      "source": [
        "### While Loops"
      ]
    },
    {
      "cell_type": "code",
      "execution_count": 171,
      "metadata": {
        "id": "AanJpMEOpigZ"
      },
      "outputs": [
        {
          "name": "stdout",
          "output_type": "stream",
          "text": [
            "0\n",
            "1\n",
            "2\n",
            "3\n",
            "4\n",
            "5\n",
            "6\n",
            "7\n",
            "8\n",
            "9\n"
          ]
        }
      ],
      "source": [
        "#while keyword with conditional statement\n",
        "#based on that cond statement, teh loop will either continue or stop\n",
        "\n",
        "num = 0\n",
        "while num < 10:\n",
        "    print(num)\n",
        "    num += 1\n",
        "    "
      ]
    },
    {
      "attachments": {},
      "cell_type": "markdown",
      "metadata": {
        "id": "lKGkgn6npigZ"
      },
      "source": [
        "##### Looping 'While True'"
      ]
    },
    {
      "cell_type": "code",
      "execution_count": 172,
      "metadata": {
        "id": "q_7GHK21pigZ"
      },
      "outputs": [
        {
          "name": "stdout",
          "output_type": "stream",
          "text": [
            "infinite loop\n"
          ]
        }
      ],
      "source": [
        "#is an infinite loop. don't forget to add break for example to stop it so wont' crash cpu\n",
        "\n",
        "game_over = False\n",
        "while True:\n",
        "    print(\"infinite loop\")\n",
        "    \n",
        "    if game_over == False:\n",
        "        break"
      ]
    },
    {
      "attachments": {},
      "cell_type": "markdown",
      "metadata": {
        "id": "mIR2glbrpigZ"
      },
      "source": [
        "##### While & For Loops Used Together"
      ]
    },
    {
      "cell_type": "code",
      "execution_count": 173,
      "metadata": {
        "id": "xVRDp4cspigZ"
      },
      "outputs": [
        {
          "name": "stdout",
          "output_type": "stream",
          "text": [
            "while loop iteration #: 0\n",
            "For loop iteration #: 0\n",
            "For loop iteration #: 1\n",
            "while loop iteration #: 2\n",
            "For loop iteration #: 0\n",
            "For loop iteration #: 1\n",
            "while loop iteration #: 4\n",
            "For loop iteration #: 0\n",
            "For loop iteration #: 1\n"
          ]
        }
      ],
      "source": [
        "num = 0\n",
        "\n",
        "while num < 5:\n",
        "    print(\"while loop iteration #:\", num)\n",
        "\n",
        "    for i in range(2):\n",
        "        print(\"For loop iteration #:\", i)\n",
        "\n",
        "        num += 1\n",
        "        "
      ]
    },
    {
      "attachments": {},
      "cell_type": "markdown",
      "metadata": {
        "id": "mdZEfa2ppiga"
      },
      "source": [
        "### Built-In Functions"
      ]
    },
    {
      "attachments": {},
      "cell_type": "markdown",
      "metadata": {
        "id": "TePeW8K4piga"
      },
      "source": [
        "##### range()"
      ]
    },
    {
      "cell_type": "code",
      "execution_count": 178,
      "metadata": {
        "id": "ic7Mz-e1piga"
      },
      "outputs": [
        {
          "name": "stdout",
          "output_type": "stream",
          "text": [
            "2\n",
            "4\n",
            "6\n",
            "8\n",
            "10\n",
            "12\n",
            "14\n",
            "16\n",
            "18\n"
          ]
        }
      ],
      "source": [
        "# takes in a start, stop, and step\n",
        "\n",
        "#start is infered as the value of 0, step inferred as the value of 1\n",
        "#so, from 0 to your defined stopping point(non-inclusive), at a step size, increase of 1\n",
        "#1value per iteration\n",
        "\n",
        "#range(5) -> [0,1,2,3,4]\n",
        "\n",
        "for i in range(2,20,2):\n",
        "    print(i)\n",
        "\n"
      ]
    },
    {
      "attachments": {},
      "cell_type": "markdown",
      "metadata": {
        "id": "A_grIbGIpiga"
      },
      "source": [
        "##### len()"
      ]
    },
    {
      "cell_type": "code",
      "execution_count": 179,
      "metadata": {
        "id": "s2CBPduMpiga"
      },
      "outputs": [
        {
          "name": "stdout",
          "output_type": "stream",
          "text": [
            "4\n"
          ]
        }
      ],
      "source": [
        "#lenght = len\n",
        "\n",
        "name_length = len(name)\n",
        "\n",
        "char_list_len = len(char_list)\n",
        "print(char_list_len)"
      ]
    },
    {
      "attachments": {},
      "cell_type": "markdown",
      "metadata": {
        "id": "dFyB7vgSpiga"
      },
      "source": [
        "##### help()"
      ]
    },
    {
      "cell_type": "code",
      "execution_count": 180,
      "metadata": {
        "id": "AEMbQIlCpiga"
      },
      "outputs": [
        {
          "name": "stdout",
          "output_type": "stream",
          "text": [
            "Help on class range in module builtins:\n",
            "\n",
            "class range(object)\n",
            " |  range(stop) -> range object\n",
            " |  range(start, stop[, step]) -> range object\n",
            " |  \n",
            " |  Return an object that produces a sequence of integers from start (inclusive)\n",
            " |  to stop (exclusive) by step.  range(i, j) produces i, i+1, i+2, ..., j-1.\n",
            " |  start defaults to 0, and stop is omitted!  range(4) produces 0, 1, 2, 3.\n",
            " |  These are exactly the valid indices for a list of 4 elements.\n",
            " |  When step is given, it specifies the increment (or decrement).\n",
            " |  \n",
            " |  Methods defined here:\n",
            " |  \n",
            " |  __bool__(self, /)\n",
            " |      True if self else False\n",
            " |  \n",
            " |  __contains__(self, key, /)\n",
            " |      Return key in self.\n",
            " |  \n",
            " |  __eq__(self, value, /)\n",
            " |      Return self==value.\n",
            " |  \n",
            " |  __ge__(self, value, /)\n",
            " |      Return self>=value.\n",
            " |  \n",
            " |  __getattribute__(self, name, /)\n",
            " |      Return getattr(self, name).\n",
            " |  \n",
            " |  __getitem__(self, key, /)\n",
            " |      Return self[key].\n",
            " |  \n",
            " |  __gt__(self, value, /)\n",
            " |      Return self>value.\n",
            " |  \n",
            " |  __hash__(self, /)\n",
            " |      Return hash(self).\n",
            " |  \n",
            " |  __iter__(self, /)\n",
            " |      Implement iter(self).\n",
            " |  \n",
            " |  __le__(self, value, /)\n",
            " |      Return self<=value.\n",
            " |  \n",
            " |  __len__(self, /)\n",
            " |      Return len(self).\n",
            " |  \n",
            " |  __lt__(self, value, /)\n",
            " |      Return self<value.\n",
            " |  \n",
            " |  __ne__(self, value, /)\n",
            " |      Return self!=value.\n",
            " |  \n",
            " |  __reduce__(...)\n",
            " |      Helper for pickle.\n",
            " |  \n",
            " |  __repr__(self, /)\n",
            " |      Return repr(self).\n",
            " |  \n",
            " |  __reversed__(...)\n",
            " |      Return a reverse iterator.\n",
            " |  \n",
            " |  count(...)\n",
            " |      rangeobject.count(value) -> integer -- return number of occurrences of value\n",
            " |  \n",
            " |  index(...)\n",
            " |      rangeobject.index(value) -> integer -- return index of value.\n",
            " |      Raise ValueError if the value is not present.\n",
            " |  \n",
            " |  ----------------------------------------------------------------------\n",
            " |  Static methods defined here:\n",
            " |  \n",
            " |  __new__(*args, **kwargs) from builtins.type\n",
            " |      Create and return a new object.  See help(type) for accurate signature.\n",
            " |  \n",
            " |  ----------------------------------------------------------------------\n",
            " |  Data descriptors defined here:\n",
            " |  \n",
            " |  start\n",
            " |  \n",
            " |  step\n",
            " |  \n",
            " |  stop\n",
            "\n"
          ]
        }
      ],
      "source": [
        "#need to know more about a function? use help function\n",
        "\n",
        "help(range)"
      ]
    },
    {
      "attachments": {},
      "cell_type": "markdown",
      "metadata": {
        "id": "9OWMPi2cpiga"
      },
      "source": [
        "##### isinstance()"
      ]
    },
    {
      "cell_type": "code",
      "execution_count": 184,
      "metadata": {
        "id": "hdt_QRVlpigb"
      },
      "outputs": [
        {
          "name": "stdout",
          "output_type": "stream",
          "text": [
            "this number is a float\n"
          ]
        }
      ],
      "source": [
        "# isinstance(var, type). used to verify information\n",
        "\n",
        "isinstance(4.5, int) #asking if it is true\n",
        "\n",
        "if isinstance(4.5, float):\n",
        "    print(\"this number is a float\")"
      ]
    },
    {
      "attachments": {},
      "cell_type": "markdown",
      "metadata": {
        "id": "pFWkGjappigb"
      },
      "source": [
        "##### abs()"
      ]
    },
    {
      "cell_type": "code",
      "execution_count": 185,
      "metadata": {
        "id": "_--tP9mppigb"
      },
      "outputs": [
        {
          "data": {
            "text/plain": [
              "5"
            ]
          },
          "execution_count": 185,
          "metadata": {},
          "output_type": "execute_result"
        }
      ],
      "source": [
        "# absolute value\n",
        "# | 5| -. 5\n",
        "#| -5 | -> -5\n",
        "\n",
        "abs(-5)"
      ]
    },
    {
      "cell_type": "code",
      "execution_count": 186,
      "metadata": {},
      "outputs": [
        {
          "ename": "SyntaxError",
          "evalue": "invalid syntax (21619312.py, line 7)",
          "output_type": "error",
          "traceback": [
            "\u001b[0;36m  Cell \u001b[0;32mIn[186], line 7\u001b[0;36m\u001b[0m\n\u001b[0;31m    except:\u001b[0m\n\u001b[0m    ^\u001b[0m\n\u001b[0;31mSyntaxError\u001b[0m\u001b[0;31m:\u001b[0m invalid syntax\n"
          ]
        }
      ],
      "source": [
        "number_test = 0\n",
        "input_num = int(input(\"guess a number\"))\n",
        "\n",
        "if input_num != number_test:\n",
        "    input_num = input_num + number_test\n",
        "    print(\"your number is\" + str(input_num))\n",
        "except:\n",
        "print(\"Nope: Error! change input value into number\")\n"
      ]
    },
    {
      "attachments": {},
      "cell_type": "markdown",
      "metadata": {
        "id": "BBW-bZlMpigb"
      },
      "source": [
        "### Try and Except"
      ]
    },
    {
      "cell_type": "code",
      "execution_count": null,
      "metadata": {
        "id": "1D69EKPDpigb"
      },
      "outputs": [],
      "source": []
    },
    {
      "attachments": {},
      "cell_type": "markdown",
      "metadata": {
        "id": "KfNu45y9pigb"
      },
      "source": [
        "### Lists"
      ]
    },
    {
      "attachments": {},
      "cell_type": "markdown",
      "metadata": {
        "id": "_pQYGjf-pigb"
      },
      "source": [
        "##### Declaring Lists"
      ]
    },
    {
      "cell_type": "code",
      "execution_count": 199,
      "metadata": {
        "id": "DfaAbDkupigb"
      },
      "outputs": [
        {
          "name": "stdout",
          "output_type": "stream",
          "text": [
            "['alex', 'andy', 'kali', 'randy']\n"
          ]
        }
      ],
      "source": [
        "#1-d data structure. only along x axis, there is no Y-axis. No columns just values\n",
        "l_1 = []\n",
        "\n",
        "#alternatively, I can declare a list using the list() function:\n",
        "l_2 = list()\n",
        "\n",
        "names = [\"alex\", \"andy\", \"kali\", \"randy\"]\n",
        "print(names)\n"
      ]
    },
    {
      "attachments": {},
      "cell_type": "markdown",
      "metadata": {
        "id": "FRrW8cwkpigb"
      },
      "source": [
        "##### Indexing a List"
      ]
    },
    {
      "cell_type": "code",
      "execution_count": 200,
      "metadata": {
        "id": "G7dNYCC7pigc"
      },
      "outputs": [
        {
          "name": "stdout",
          "output_type": "stream",
          "text": [
            "alex\n",
            "['andy', 'kali', 'randy']\n",
            "['andy', 'randy']\n",
            "['randy', 'kali', 'andy', 'alex']\n"
          ]
        }
      ],
      "source": [
        "#[start: stop: step]\n",
        "#single index -- very first value:\n",
        "\n",
        "print(names[0])\n",
        "\n",
        "#print all the names starting with the second name(position 1) all the way to the end of the list\n",
        "print(names[1:])\n",
        "\n",
        "#print all the names starting at the begining of the list and going all the way up until N (n == the number we want to stop at)\n",
        "print(names[1::2])\n",
        "\n",
        "#print all names in reverse\n",
        "print(names[::-1]) #-1 means we're starting at teh end of the list. :: means we're getting all the numbers in the list"
      ]
    },
    {
      "attachments": {},
      "cell_type": "markdown",
      "metadata": {
        "id": "t__TV9J3pigc"
      },
      "source": [
        "##### .append()"
      ]
    },
    {
      "cell_type": "code",
      "execution_count": 201,
      "metadata": {
        "id": "WYNIdv2ppigc"
      },
      "outputs": [
        {
          "name": "stdout",
          "output_type": "stream",
          "text": [
            "['alex', 'andy', 'kali', 'randy', 'Lee']\n"
          ]
        }
      ],
      "source": [
        "names.append(\"Lee\")\n",
        "print(names)"
      ]
    },
    {
      "attachments": {},
      "cell_type": "markdown",
      "metadata": {
        "id": "JqK9rNXipigc"
      },
      "source": [
        "##### .insert()"
      ]
    },
    {
      "cell_type": "code",
      "execution_count": 202,
      "metadata": {
        "id": "CUBDbaxHpigc"
      },
      "outputs": [
        {
          "data": {
            "text/plain": [
              "['Lee', 'alex', 'james', 'andy', 'kali', 'randy']"
            ]
          },
          "execution_count": 202,
          "metadata": {},
          "output_type": "execute_result"
        }
      ],
      "source": [
        "names.sort()\n",
        "names.insert(2, \"james\")\n",
        "names  #number is the position of where you want to insert"
      ]
    },
    {
      "attachments": {},
      "cell_type": "markdown",
      "metadata": {
        "id": "wrykYThKpigc"
      },
      "source": [
        "##### .pop()"
      ]
    },
    {
      "cell_type": "code",
      "execution_count": 203,
      "metadata": {
        "id": "M2vsYThtpigc"
      },
      "outputs": [
        {
          "name": "stdout",
          "output_type": "stream",
          "text": [
            "kali\n",
            "['Lee', 'alex', 'james', 'andy', 'randy']\n"
          ]
        }
      ],
      "source": [
        "#defalut to removing the last value if the parenthesis are left empty\n",
        "#pop also returns the removed value! so you can save it to a variable\n",
        "\n",
        "removed_name = names.pop(4)\n",
        "print(removed_name)\n",
        "print(names)"
      ]
    },
    {
      "attachments": {},
      "cell_type": "markdown",
      "metadata": {
        "id": "f7HSgrpBpigc"
      },
      "source": [
        "\n",
        "##### .remove()"
      ]
    },
    {
      "cell_type": "code",
      "execution_count": 204,
      "metadata": {
        "id": "Yy1Fntqfpigc"
      },
      "outputs": [
        {
          "data": {
            "text/plain": [
              "['Lee', 'alex', 'james', 'andy', 'randy']"
            ]
          },
          "execution_count": 204,
          "metadata": {},
          "output_type": "execute_result"
        }
      ],
      "source": [
        "#remove all my multiples out of this list\n",
        "# .remove() only removes first instance of the value you want to remove, thats why we use the loop\n",
        "#removes values not index positions!\n",
        "\n",
        "while \"bob\" in names:\n",
        "    names.remove(\"bob\")\n",
        "\n",
        "names\n"
      ]
    },
    {
      "attachments": {},
      "cell_type": "markdown",
      "metadata": {
        "id": "lQmj8afmpigc"
      },
      "source": [
        "##### del()"
      ]
    },
    {
      "cell_type": "code",
      "execution_count": 206,
      "metadata": {
        "id": "bNzO04zgpigd"
      },
      "outputs": [
        {
          "name": "stdout",
          "output_type": "stream",
          "text": [
            "['Lee', 'andy', 'randy']\n"
          ]
        },
        {
          "data": {
            "text/plain": [
              "'andy'"
            ]
          },
          "execution_count": 206,
          "metadata": {},
          "output_type": "execute_result"
        }
      ],
      "source": [
        "del(names[1])\n",
        "print(names)\n",
        "\n",
        "names[1]"
      ]
    },
    {
      "attachments": {},
      "cell_type": "markdown",
      "metadata": {
        "id": "gBmrIDmEpigd"
      },
      "source": [
        "##### Concatenating Two Lists"
      ]
    },
    {
      "cell_type": "code",
      "execution_count": 208,
      "metadata": {
        "id": "EhY6ViTgpigd"
      },
      "outputs": [
        {
          "data": {
            "text/plain": [
              "[0, 1, 2, 3, 4, 5]"
            ]
          },
          "execution_count": 208,
          "metadata": {},
          "output_type": "execute_result"
        }
      ],
      "source": [
        "l_2 = [0,1,2]\n",
        "l_3 = [3,4,5]\n",
        "\n",
        "l_2 + l_3"
      ]
    },
    {
      "attachments": {},
      "cell_type": "markdown",
      "metadata": {
        "id": "qFFI7yWvpigd"
      },
      "source": [
        "##### Lists Within Lists"
      ]
    },
    {
      "cell_type": "code",
      "execution_count": 213,
      "metadata": {
        "id": "kEdQnK2dpigd"
      },
      "outputs": [
        {
          "name": "stdout",
          "output_type": "stream",
          "text": [
            "['max', 23, 2, 345, ['sally', 45, 4, 56, ['todo']]]\n"
          ]
        },
        {
          "ename": "TypeError",
          "evalue": "'int' object is not subscriptable",
          "output_type": "error",
          "traceback": [
            "\u001b[0;31m---------------------------------------------------------------------------\u001b[0m",
            "\u001b[0;31mTypeError\u001b[0m                                 Traceback (most recent call last)",
            "Cell \u001b[0;32mIn[213], line 7\u001b[0m\n\u001b[1;32m      5\u001b[0m names \u001b[39m=\u001b[39m [\u001b[39m\"\u001b[39m\u001b[39mmax\u001b[39m\u001b[39m\"\u001b[39m, \u001b[39m23\u001b[39m, \u001b[39m2\u001b[39m,\u001b[39m345\u001b[39m, [\u001b[39m\"\u001b[39m\u001b[39msally\u001b[39m\u001b[39m\"\u001b[39m, \u001b[39m45\u001b[39m, \u001b[39m4\u001b[39m,\u001b[39m56\u001b[39m, [\u001b[39m\"\u001b[39m\u001b[39mtodo\u001b[39m\u001b[39m\"\u001b[39m]]]\n\u001b[1;32m      6\u001b[0m \u001b[39mprint\u001b[39m(names)\n\u001b[0;32m----> 7\u001b[0m \u001b[39mprint\u001b[39m(names[\u001b[39m3\u001b[39;49m][\u001b[39m3\u001b[39;49m][\u001b[39m0\u001b[39m])\n",
            "\u001b[0;31mTypeError\u001b[0m: 'int' object is not subscriptable"
          ]
        }
      ],
      "source": [
        "# list are able to house any and all data types at one time. \n",
        "#This includes, data stores: other lists, dictionaries, sets, etc\n",
        "#these can nest as deep as you want ex. API's\n",
        "\n",
        "names = [\"max\", 23, 2,345, [\"sally\", 45, 4,56, [\"todo\"]]]\n",
        "print(names)\n",
        "print(names[3][3][0])"
      ]
    },
    {
      "attachments": {},
      "cell_type": "markdown",
      "metadata": {
        "id": "WtbhHB8Dpigd"
      },
      "source": [
        "##### Looping Through Lists"
      ]
    },
    {
      "cell_type": "code",
      "execution_count": 214,
      "metadata": {
        "id": "l-8Lv_6ipigd"
      },
      "outputs": [
        {
          "ename": "SyntaxError",
          "evalue": "invalid syntax (2980716996.py, line 4)",
          "output_type": "error",
          "traceback": [
            "\u001b[0;36m  Cell \u001b[0;32mIn[214], line 4\u001b[0;36m\u001b[0m\n\u001b[0;31m    print(names[index]):\u001b[0m\n\u001b[0m                       ^\u001b[0m\n\u001b[0;31mSyntaxError\u001b[0m\u001b[0;31m:\u001b[0m invalid syntax\n"
          ]
        }
      ],
      "source": [
        "#we can loop through using the two methods dwe learned earlier: index position, \n",
        "#loop thorugh with a index accessor:\n",
        "for index in range(len(names)):\n",
        "    print(names[index]):\n",
        "\n",
        "    for value in names:\n",
        "        print(value)"
      ]
    },
    {
      "cell_type": "code",
      "execution_count": null,
      "metadata": {},
      "outputs": [],
      "source": []
    },
    {
      "cell_type": "code",
      "execution_count": null,
      "metadata": {},
      "outputs": [],
      "source": [
        "\n"
      ]
    },
    {
      "cell_type": "code",
      "execution_count": null,
      "metadata": {},
      "outputs": [],
      "source": []
    }
  ],
  "metadata": {
    "colab": {
      "provenance": []
    },
    "kernelspec": {
      "display_name": "Python 3",
      "language": "python",
      "name": "python3"
    },
    "language_info": {
      "codemirror_mode": {
        "name": "ipython",
        "version": 3
      },
      "file_extension": ".py",
      "mimetype": "text/x-python",
      "name": "python",
      "nbconvert_exporter": "python",
      "pygments_lexer": "ipython3",
      "version": "3.11.4"
    },
    "vscode": {
      "interpreter": {
        "hash": "26de051ba29f2982a8de78e945f0abaf191376122a1563185a90213a26c5da77"
      }
    }
  },
  "nbformat": 4,
  "nbformat_minor": 0
}
